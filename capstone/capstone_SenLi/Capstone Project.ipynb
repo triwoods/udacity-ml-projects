{
 "cells": [
  {
   "cell_type": "markdown",
   "metadata": {},
   "source": [
    "Import modules\n"
   ]
  },
  {
   "cell_type": "code",
   "execution_count": 1,
   "metadata": {
    "collapsed": true
   },
   "outputs": [],
   "source": [
    "import tensorflow as tf\n",
    "import numpy as np\n",
    "import matplotlib.pyplot as plt\n",
    "from time import time"
   ]
  },
  {
   "cell_type": "code",
   "execution_count": 2,
   "metadata": {},
   "outputs": [],
   "source": [
    "from sklearn.linear_model import LinearRegression\n",
    "from sklearn.tree import DecisionTreeRegressor\n",
    "from sklearn.ensemble import AdaBoostRegressor, BaggingRegressor, GradientBoostingRegressor, RandomForestRegressor\n",
    "from sklearn.neighbors import KNeighborsRegressor"
   ]
  },
  {
   "cell_type": "code",
   "execution_count": 17,
   "metadata": {},
   "outputs": [],
   "source": [
    "from sklearn.metrics import mean_squared_error, r2_score\n",
    "from sklearn.model_selection import train_test_split\n",
    "\n",
    "from scipy.signal import freqz, deconvolve, convolve"
   ]
  },
  {
   "cell_type": "markdown",
   "metadata": {},
   "source": [
    "Loading training and testing data"
   ]
  },
  {
   "cell_type": "code",
   "execution_count": 18,
   "metadata": {},
   "outputs": [],
   "source": [
    "def q15_to_lsf(x):\n",
    "    return x.astype('float') * 2 / np.power(2, 15)\n",
    "\n",
    "X = q15_to_lsf(np.load('./data/train/line_spectrum_frequency_low_band_speech.npy'))\n",
    "y = q15_to_lsf(np.load('./data/train/line_spectrum_frequency_high_band_speech.npy'))\n",
    "\n",
    "X_test = q15_to_lsf(np.load('./data/test/line_spectrum_frequency_low_band_speech.npy'))\n",
    "y_test = q15_to_lsf(np.load('./data/test/line_spectrum_frequency_high_band_speech.npy'))\n",
    "\n",
    "X_train, X_valid, y_train, y_valid = train_test_split(X, y, test_size=0.1, random_state=0)"
   ]
  },
  {
   "cell_type": "code",
   "execution_count": 37,
   "metadata": {},
   "outputs": [
    {
     "name": "stdout",
     "output_type": "stream",
     "text": [
      "(400952, 10)\n",
      "(400952, 6)\n",
      "(44551, 10)\n",
      "(44551, 6)\n",
      "(1386, 10)\n",
      "(1386, 6)\n",
      "[0.11370633 0.15138473 0.25157285 0.57322945 0.64647703 0.73007898\n",
      " 0.89037997 0.95624527 1.27675138 1.36466766]\n",
      "[0. 0. 0. 0. 0. 0. 0. 0. 0. 0.]\n"
     ]
    },
    {
     "data": {
      "image/png": "[encoded data removed]",
      "text/plain": [
       "<matplotlib.figure.Figure at 0x7fd2a0489f60>"
      ]
     },
     "metadata": {},
     "output_type": "display_data"
    }
   ],
   "source": [
    "print(X_train.shape)\n",
    "print(y_train.shape)\n",
    "print(X_valid.shape)\n",
    "print(y_valid.shape)\n",
    "print(X_test.shape)\n",
    "print(y_test.shape)\n",
    "\n",
    "num_train_data = X_train.shape[0]\n",
    "\n",
    "def lsf2poly(L):\n",
    "    order = len(L)\n",
    "    Q = L[::2]\n",
    "    P = L[1::2]\n",
    "    poles_P = np.r_[np.exp(1j*P),np.exp(-1j*P)]\n",
    "    poles_Q = np.r_[np.exp(1j*Q),np.exp(-1j*Q)]\n",
    "    \n",
    "    P = np.poly(poles_P)\n",
    "    Q = np.poly(poles_Q)\n",
    "    \n",
    "    P = convolve(P, np.array([1.0, -1.0]))\n",
    "    Q = convolve(Q, np.array([1.0, 1.0]))\n",
    "    \n",
    "    a = 0.5*(P+Q)\n",
    "    return a[:-1]\n",
    "\n",
    "tmp = X_train[2,:] * np.pi/2\n",
    "print(tmp)\n",
    "tmp2 = np.zeros_like(tmp)\n",
    "print(tmp2)\n",
    "a = lsf2poly(tmp )\n",
    "w, h = freqz(1.0, a)\n",
    "plt.plot(w, 20 * np.log10(abs(h)))\n",
    "plt.plot(tmp, tmp2, 'x')\n",
    "plt.axis([0, np.pi/2, -10, 100])\n",
    "plt.show()\n"
   ]
  },
  {
   "cell_type": "code",
   "execution_count": 10,
   "metadata": {},
   "outputs": [],
   "source": [
    "def train_validate(learner, sample_size, X_train, y_train, X_valid, y_valid):\n",
    "    '''\n",
    "    inputs:\n",
    "       - learner: the learning algorithm to be trained and predicted on\n",
    "       - sample_size: the size of samples (number) to be drawn from training set\n",
    "       - X_train: features training set\n",
    "       - y_train: income training set\n",
    "       - X_valid: features validating set\n",
    "       - y_valid: income validating set\n",
    "    '''\n",
    "    sample_size = int(sample_size)\n",
    "\n",
    "    print(sample_size)\n",
    "    \n",
    "    results = {}\n",
    "\n",
    "    start = time() # Get start time\n",
    "    X_train = X_train[:sample_size, :]\n",
    "    y_train = y_train[:sample_size, :]\n",
    "    \n",
    "    learner = learner.fit(X_train, y_train)\n",
    "    end = time() # Get end time\n",
    "    \n",
    "    print('training_done!')\n",
    "\n",
    "    results['train_time'] = end - start\n",
    "\n",
    "    start = time() # Get start time\n",
    "    predictions_valid = learner.predict(X_valid)\n",
    "    \n",
    "    print('validating_done!')\n",
    "    \n",
    "    print(predictions_valid.shape)\n",
    "    predictions_train = learner.predict(X_train[:1000, :])\n",
    "    print(predictions_train.shape)\n",
    "    end = time() # Get end time\n",
    "\n",
    "    # Calculate the total prediction time\n",
    "    results['pred_time'] = end - start\n",
    "\n",
    "    print(np.argwhere(np.isnan(predictions_train)))\n",
    "    print(np.argwhere(np.isnan(predictions_valid)))\n",
    "    \n",
    "    print(predictions_train)\n",
    "    print(predictions_valid)\n",
    "    \n",
    "    # Compute accuracy on the first 3000 training samples\n",
    "    # results['error_train'] = mean_squared_error(y_train[:1000, :], predictions_train, multioutput='raw_values')\n",
    "\n",
    "    # Compute accuracy on validation set\n",
    "    # results['error_valid'] = mean_squared_error(y_valid, predictions_valid, multioutput='raw_values')\n",
    "\n",
    "    # TODO: Compute F-score on the the first 300 training samples\n",
    "    # results['r2_train'] = r2_score(y_train, predictions_train)\n",
    "\n",
    "    # TODO: Compute F-score on the test set\n",
    "    # results['r2_valid'] = r2_score(y_valid, predictions_valid)\n",
    "\n",
    "    # Success\n",
    "    print(\"{} trained on {} samples.\".format(learner.__class__.__name__, sample_size))\n",
    "\n",
    "    # Return the results\n",
    "    return results"
   ]
  },
  {
   "cell_type": "code",
   "execution_count": 11,
   "metadata": {
    "collapsed": true
   },
   "outputs": [],
   "source": [
    "clf_benchmark_1 = LinearRegression(n_jobs=-1)\n",
    "# clf_benchmark_2 = DecisionTreeRegressor()\n",
    "# clf_benchmark_3 = RandomForestRegressor(random_state=0, n_jobs=-1)"
   ]
  },
  {
   "cell_type": "code",
   "execution_count": 12,
   "metadata": {},
   "outputs": [
    {
     "name": "stdout",
     "output_type": "stream",
     "text": [
      "0\n",
      "4009\n",
      "training_done!\n",
      "validating_done!\n",
      "(44551, 6)\n",
      "(1000, 6)\n",
      "[]\n",
      "[]\n",
      "[[ 0.07688508  0.22310719  0.27592912  0.44059481  0.63973824  0.87454412]\n",
      " [ 0.13801013  0.37525618  0.6276015   0.84917278  0.85853856  0.87852181]\n",
      " [ 0.14019888  0.25876179  0.33296136  0.44363236  0.66923265  0.85093462]\n",
      " ...\n",
      " [ 0.21002874  0.33578709  0.47074146  0.5450115   0.75959078  0.83550571]\n",
      " [-0.11878252  0.05985681 -0.00301376  0.29885922  0.47595893  0.96033871]\n",
      " [ 0.00282782  0.2540909   0.41301157  0.71178518  0.73217717  0.91940991]]\n",
      "[[ 0.1135722   0.30456416  0.49091697  0.68126301  0.76676364  0.89241043]\n",
      " [ 0.45878563  0.58311537  0.94033988  0.87962946  1.04276056  0.76289342]\n",
      " [ 0.47216906  0.65606796  1.08595447  1.07304507  1.14555505  0.75948128]\n",
      " ...\n",
      " [ 0.10645698  0.28738018  0.42147669  0.60163537  0.73137378  0.87377271]\n",
      " [ 0.13356103  0.32028028  0.48395541  0.65461093  0.77528251  0.87311735]\n",
      " [-0.00361528  0.16770777  0.24950808  0.4874576   0.60781242  0.92389676]]\n",
      "LinearRegression trained on 4009 samples.\n",
      "1\n",
      "4009\n",
      "training_done!\n",
      "validating_done!\n",
      "(44551, 6)\n",
      "(1000, 6)\n",
      "[]\n",
      "[]\n",
      "[[ 2.27539889e-01  3.67527544e-01  5.01275765e-01  4.72764132e-01\n",
      "   6.28296020e-01  7.78178390e-01]\n",
      " [ 1.35887641e+01  2.52012581e+01  4.60697968e+01  2.65642842e+01\n",
      "   1.54560711e+01  5.64535963e+00]\n",
      " [-2.80132371e+01 -5.22881598e+01 -9.62508415e+01 -5.45846673e+01\n",
      "  -3.07758061e+01 -9.56882607e+00]\n",
      " ...\n",
      " [-4.94492945e+00 -9.10432788e+00 -1.67863354e+01 -9.27541475e+00\n",
      "  -4.84626596e+00 -9.65973831e-01]\n",
      " [ 1.20567955e+01  2.22758305e+01  4.07613906e+01  2.35478392e+01\n",
      "   1.37377566e+01  5.08548063e+00]\n",
      " [ 4.84156746e-02  1.68084406e-01  1.17424107e-01  4.47173811e-01\n",
      "   6.29251794e-01  7.93111878e-01]]\n",
      "[[ 3.68794760e+00  6.91337174e+00  1.26251134e+01  7.68565133e+00\n",
      "   4.80877652e+00  2.23170898e+00]\n",
      " [ 1.19525556e+01  2.25585618e+01  4.15243334e+01  2.40519044e+01\n",
      "   1.42706665e+01  5.42716396e+00]\n",
      " [ 8.71965647e+00  1.64875150e+01  3.02765519e+01  1.76489371e+01\n",
      "   1.05622774e+01  4.15938002e+00]\n",
      " ...\n",
      " [ 2.18365700e+00  3.68963445e+00  6.47422765e+00  3.84464030e+00\n",
      "   2.42795927e+00  1.29961306e+00]\n",
      " [ 5.67372388e+00  1.05647812e+01  1.92965849e+01  1.13398039e+01\n",
      "   6.84897634e+00  2.86343018e+00]\n",
      " [-2.05304105e+00 -3.90387026e+00 -7.33407935e+00 -3.81359380e+00\n",
      "  -1.82318473e+00 -1.11485735e-02]]\n",
      "LinearRegression trained on 4009 samples.\n",
      "2\n",
      "4009\n",
      "training_done!\n",
      "validating_done!\n",
      "(44551, 6)\n",
      "(1000, 6)\n",
      "[]\n",
      "[]\n",
      "[[  421.55026073   231.62621177   337.92251847   189.98479667\n",
      "   -906.29034914  -827.17635042]\n",
      " [  638.43153464   350.63704173   511.57379206   287.53607181\n",
      "  -1372.0999251  -1252.57206694]\n",
      " [-1110.50253308  -608.82527652  -888.14451074  -498.29869375\n",
      "   2386.6867442   2179.4330067 ]\n",
      " ...\n",
      " [ -229.8897693   -125.8200703   -183.41551402  -102.61336134\n",
      "    494.38631026   451.6341397 ]\n",
      " [  720.54299011   395.79644534   577.23815577   324.45382729\n",
      "  -1547.48580058 -1412.88228231]\n",
      " [ 1004.97572413   551.31574508   804.29985478   451.70787366\n",
      "  -2159.87369539 -1971.60050322]]\n",
      "[[ 177.97150878   97.48594426  142.15714757   80.16625452 -379.54233709\n",
      "  -346.42344522]\n",
      " [ -34.56321059  -18.4974661   -26.64690478  -14.47113397   74.25033436\n",
      "    67.90380958]\n",
      " [ 131.4848421    72.79042623  106.73315148   60.3639378  -284.89467002\n",
      "  -259.82337076]\n",
      " ...\n",
      " [-128.83767703  -71.20846868 -104.12257453  -58.26770084  280.78347828\n",
      "   256.65116376]\n",
      " [ 300.326504    165.48417558  241.50926     135.97658972 -646.41611625\n",
      "  -590.04201499]\n",
      " [ -38.06057749  -20.71833791  -30.54297957  -16.81051364   84.56933033\n",
      "    77.24712603]]\n",
      "LinearRegression trained on 4009 samples.\n"
     ]
    }
   ],
   "source": [
    "samples_1 = num_train_data // 100\n",
    "samples_10 = num_train_data // 100\n",
    "samples_100 = num_train_data // 100\n",
    "\n",
    "results = {}\n",
    "# for clf in [clf_benchmark_1, clf_benchmark_2, clf_benchmark_3]:\n",
    "for clf in [clf_benchmark_1]:\n",
    "    clf_name = clf.__class__.__name__\n",
    "    results[clf_name] = {}\n",
    "    for i, samples in enumerate([samples_1, samples_10, samples_100]):\n",
    "        print(i)\n",
    "        results[clf_name][i] = train_validate(clf, samples, X_train, y_train, X_valid, y_valid)\n",
    "    "
   ]
  },
  {
   "cell_type": "code",
   "execution_count": 9,
   "metadata": {},
   "outputs": [
    {
     "ename": "SyntaxError",
     "evalue": "Missing parentheses in call to 'print'. Did you mean print(results)? (<ipython-input-9-60edbf48a961>, line 1)",
     "output_type": "error",
     "traceback": [
      "\u001b[0;36m  File \u001b[0;32m\"<ipython-input-9-60edbf48a961>\"\u001b[0;36m, line \u001b[0;32m1\u001b[0m\n\u001b[0;31m    print results\u001b[0m\n\u001b[0m                ^\u001b[0m\n\u001b[0;31mSyntaxError\u001b[0m\u001b[0;31m:\u001b[0m Missing parentheses in call to 'print'. Did you mean print(results)?\n"
     ]
    }
   ],
   "source": [
    "print results"
   ]
  },
  {
   "cell_type": "code",
   "execution_count": null,
   "metadata": {
    "collapsed": true
   },
   "outputs": [],
   "source": []
  }
 ],
 "metadata": {
  "kernelspec": {
   "display_name": "Python 3",
   "language": "python",
   "name": "python3"
  },
  "language_info": {
   "codemirror_mode": {
    "name": "ipython",
    "version": 3
   },
   "file_extension": ".py",
   "mimetype": "text/x-python",
   "name": "python",
   "nbconvert_exporter": "python",
   "pygments_lexer": "ipython3",
   "version": "3.6.3"
  }
 },
 "nbformat": 4,
 "nbformat_minor": 2
}
